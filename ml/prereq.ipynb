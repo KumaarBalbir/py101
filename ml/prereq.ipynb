{
 "cells": [
  {
   "cell_type": "markdown",
   "metadata": {},
   "source": [
    "#### ecosystem of python and numpy"
   ]
  },
  {
   "cell_type": "markdown",
   "metadata": {},
   "source": [
    "It has a set of numeric data types and arithmetic operations. NumPy is a library that extends the base capabilities of python to add a richer data set including more numeric types, vectors, matrices, and many matrix functions. NumPy and python  work together fairly seamlessly. Python arithmetic operators work on NumPy data types and many NumPy functions will accept python data types.\n",
    "\n",
    "NumPy's basic data structure is an indexable, n-dimensional *array* containing elements of the same type (`dtype`). NumPy's basic data structure is an indexable, n-dimensional *array* containing elements of the same type (`dtype`)."
   ]
  },
  {
   "cell_type": "code",
   "execution_count": 2,
   "metadata": {},
   "outputs": [
    {
     "name": "stdout",
     "output_type": "stream",
     "text": [
      "a: [0. 0. 0. 0.] shape: (4,)\n",
      "b: [0. 0. 0. 0.] shape: (4,)\n",
      "c: [0.65793276 0.22011273 0.89715469 0.88030604] shape: (4,)\n"
     ]
    }
   ],
   "source": [
    "# numpy vector creation \n",
    "import numpy as np \n",
    "a = np.zeros(4)\n",
    "b = np.zeros((4,))\n",
    "c = np.random.random(4)\n",
    "print(f\"a: {a} shape: {a.shape}\")\n",
    "print(f\"b: {b} shape: {b.shape}\")\n",
    "print(f\"c: {c} shape: {c.shape}\")"
   ]
  },
  {
   "cell_type": "code",
   "execution_count": 4,
   "metadata": {},
   "outputs": [
    {
     "name": "stdout",
     "output_type": "stream",
     "text": [
      "a: [0. 1. 2. 3.] shape: (4,)\n",
      "b: [1 2 3 4] shape: (4,)\n"
     ]
    }
   ],
   "source": [
    "a = np.arange(4.) # make sure to use 4. instead of 4 to get float\n",
    "b = np.arange(1, 5) # start from 1 and goes till 4\n",
    "print(f\"a: {a} shape: {a.shape}\")\n",
    "print(f\"b: {b} shape: {b.shape}\")"
   ]
  },
  {
   "cell_type": "code",
   "execution_count": 5,
   "metadata": {},
   "outputs": [
    {
     "name": "stdout",
     "output_type": "stream",
     "text": [
      "a [[0.39125574 0.3045081 ]\n",
      " [0.56510235 0.08189754]\n",
      " [0.62502711 0.70739429]] shape: (3, 2)\n",
      "b [[0.02210869 0.59898435]\n",
      " [0.14803834 0.61978278]\n",
      " [0.22432956 0.42000747]] shape: (3, 2)\n"
     ]
    }
   ],
   "source": [
    "a = np.random.random((3,2))\n",
    "b = np.random.rand(3,2)\n",
    "print(f\"a {a} shape: {a.shape}\")\n",
    "print(f\"b {b} shape: {b.shape}\")"
   ]
  },
  {
   "cell_type": "markdown",
   "metadata": {},
   "source": [
    "Note:\n",
    "\n",
    "what is difference Between `np.random.random` and `np.random.rand`?\n",
    "\n",
    "Both `np.random.random` and `np.random.rand` generate random numbers between 0 and 1, but they differ in how they accept arguments.\n",
    "\n",
    "**Key Differences:**\n",
    "1. **`np.random.random(size=None)`**\n",
    "   - Takes a single argument, which is a tuple specifying the shape of the output array.\n",
    "   - Example: `np.random.random((3, 2))` generates a 3×2 array.\n",
    "\n",
    "2. **`np.random.rand(d0, d1, ..., dn)`**\n",
    "   - Takes separate integer arguments specifying the shape of the output array.\n",
    "   - Example: `np.random.rand(3, 2)` generates a 3×2 array."
   ]
  },
  {
   "cell_type": "code",
   "execution_count": 6,
   "metadata": {},
   "outputs": [
    {
     "name": "stdout",
     "output_type": "stream",
     "text": [
      "a: [1 2 3 4] shape: (4,)\n",
      "b: [5. 1. 2. 3. 4.] shape: (5,)\n"
     ]
    }
   ],
   "source": [
    "# from list\n",
    "a = np.array([1,2,3,4])\n",
    "print(f\"a: {a} shape: {a.shape}\")\n",
    "\n",
    "b = np.array([5., 1, 2, 3, 4])\n",
    "print(f\"b: {b} shape: {b.shape}\")"
   ]
  },
  {
   "cell_type": "code",
   "execution_count": 7,
   "metadata": {},
   "outputs": [
    {
     "name": "stdout",
     "output_type": "stream",
     "text": [
      "[0 1 2 3 4 5 6 7 8 9]\n",
      "a[2].shape: () a[2]  = 2, Accessing an element returns a scalar\n",
      "a[-1] = 9\n",
      "The error message you'll see is:\n",
      "index 10 is out of bounds for axis 0 with size 10\n"
     ]
    }
   ],
   "source": [
    "#vector indexing operations on 1-D vectors\n",
    "a = np.arange(10)\n",
    "print(a)\n",
    "\n",
    "#access an element\n",
    "print(f\"a[2].shape: {a[2].shape} a[2]  = {a[2]}, Accessing an element returns a scalar\")\n",
    "\n",
    "# access the last element, negative indexes count from the end\n",
    "print(f\"a[-1] = {a[-1]}\")\n",
    "\n",
    "#indexs must be within the range of the vector or they will produce and error\n",
    "try:\n",
    "    c = a[10]\n",
    "except Exception as e:\n",
    "    print(\"The error message you'll see is:\")\n",
    "    print(e)"
   ]
  },
  {
   "cell_type": "code",
   "execution_count": 8,
   "metadata": {},
   "outputs": [
    {
     "name": "stdout",
     "output_type": "stream",
     "text": [
      "a         = [0 1 2 3 4 5 6 7 8 9]\n",
      "a[2:7:1] =  [2 3 4 5 6]\n",
      "a[2:7:2] =  [2 4 6]\n",
      "a[3:]    =  [3 4 5 6 7 8 9]\n",
      "a[:3]    =  [0 1 2]\n",
      "a[:]     =  [0 1 2 3 4 5 6 7 8 9]\n"
     ]
    }
   ],
   "source": [
    "#vector slicing operations\n",
    "a = np.arange(10)\n",
    "print(f\"a         = {a}\")\n",
    "\n",
    "#access 5 consecutive elements (start:stop:step)\n",
    "c = a[2:7:1];     print(\"a[2:7:1] = \", c)\n",
    "\n",
    "# access 3 elements separated by two \n",
    "c = a[2:7:2];     print(\"a[2:7:2] = \", c)\n",
    "\n",
    "# access all elements index 3 and above\n",
    "c = a[3:];        print(\"a[3:]    = \", c)\n",
    "\n",
    "# access all elements below index 3\n",
    "c = a[:3];        print(\"a[:3]    = \", c)\n",
    "\n",
    "# access all elements\n",
    "c = a[:];         print(\"a[:]     = \", c)"
   ]
  },
  {
   "cell_type": "code",
   "execution_count": null,
   "metadata": {},
   "outputs": [],
   "source": []
  },
  {
   "cell_type": "markdown",
   "metadata": {},
   "source": []
  }
 ],
 "metadata": {
  "kernelspec": {
   "display_name": "self-py",
   "language": "python",
   "name": "python3"
  },
  "language_info": {
   "codemirror_mode": {
    "name": "ipython",
    "version": 3
   },
   "file_extension": ".py",
   "mimetype": "text/x-python",
   "name": "python",
   "nbconvert_exporter": "python",
   "pygments_lexer": "ipython3",
   "version": "3.10.12"
  }
 },
 "nbformat": 4,
 "nbformat_minor": 2
}
