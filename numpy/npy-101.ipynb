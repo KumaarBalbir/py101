{
 "cells": [
  {
   "cell_type": "markdown",
   "metadata": {},
   "source": [
    "# Why numpy?\n",
    "Let me put directly from numpy's documentation: \n",
    "\n",
    "Python lists are excellent, general-purpose containers. They can be “heterogeneous”, meaning that they can contain elements of a variety of types, and they are quite fast when used to perform individual operations on a handful of elements.\n",
    "\n",
    "Depending on the characteristics of the data and the types of operations that need to be performed, other containers may be more appropriate; by exploiting these characteristics, we can improve speed, reduce memory consumption, and offer a high-level syntax for performing a variety of common processing tasks. NumPy shines when there are large quantities of “homogeneous” (same-type) data to be processed on the CPU."
   ]
  },
  {
   "cell_type": "markdown",
   "metadata": {},
   "source": [
    "This is a quick overview of arrays in NumPy. It demonstrates how n-dimensional (`ndarray`) arrays are represented and can be manipulated. In particular, if you don’t know how to apply common functions to n-dimensional arrays (without using for-loops), or if you want to understand axis and shape properties for n-dimensional arrays, this code examples might be of help."
   ]
  },
  {
   "cell_type": "markdown",
   "metadata": {},
   "source": [
    "**Q1. Why do we need to know NumPy?**\n",
    "\n",
    "**Ans.** \n",
    "- NumPy (short for Numerical Python) is a package which is foundation for other libraries in python such as, tf, pandas, scipy, matplotlib, scikit-learn, etc\n",
    "- NumPy is a fundamental package for scientific computing in python. It provides classes and functions for working with arrays, and a large collection of mathematical functions to operate/manipulate on these arrays.\n"
   ]
  },
  {
   "cell_type": "markdown",
   "metadata": {},
   "source": [
    "##### Basics"
   ]
  },
  {
   "cell_type": "code",
   "execution_count": 2,
   "metadata": {},
   "outputs": [],
   "source": [
    "# this is how you load numpy module in your project\n",
    "import numpy as np "
   ]
  },
  {
   "cell_type": "markdown",
   "metadata": {},
   "source": [
    "NumPy’s main object is the homogeneous multidimensional array. It is a table of elements (usually numbers), all of the same type, indexed by a tuple of non-negative integers. In NumPy dimensions are called axes."
   ]
  },
  {
   "cell_type": "markdown",
   "metadata": {},
   "source": [
    "For example, the array for the coordinates of a point in 3D space, `[1, 2, 1]`, has one axis. That axis has 3 elements in it, so we say it has a length of 3. In the example pictured below, the array has 2 axes. The first axis has a length of 2, the second axis has a length of 3.\n",
    "```python\n",
    "[[1., 0., 0.],\n",
    " [0., 1., 2.]]\n",
    "```\n"
   ]
  },
  {
   "cell_type": "markdown",
   "metadata": {},
   "source": [
    "##### Array creation"
   ]
  },
  {
   "cell_type": "markdown",
   "metadata": {},
   "source": [
    "There are several ways to create arrays.\n",
    "\n",
    "For example, you can create an array from a regular Python `list` or `tuple` using the array function. The type of the resulting array is deduced from the type of the elements in the sequences."
   ]
  },
  {
   "cell_type": "code",
   "execution_count": 3,
   "metadata": {},
   "outputs": [
    {
     "name": "stdout",
     "output_type": "stream",
     "text": [
      "[1 2 3 4 5]\n"
     ]
    }
   ],
   "source": [
    "# 1D array from list\n",
    "py_list = [1, 2, 3, 4, 5]\n",
    "array = np.array(py_list)\n",
    "print(array)"
   ]
  },
  {
   "cell_type": "code",
   "execution_count": 4,
   "metadata": {},
   "outputs": [
    {
     "name": "stdout",
     "output_type": "stream",
     "text": [
      "<class 'numpy.ndarray'>\n"
     ]
    }
   ],
   "source": [
    "print(type(array))"
   ]
  },
  {
   "cell_type": "code",
   "execution_count": 5,
   "metadata": {},
   "outputs": [
    {
     "data": {
      "text/plain": [
       "array([[ 3,  2,  1],\n",
       "       [ 1,  2,  3],\n",
       "       [73,  1,  3]])"
      ]
     },
     "execution_count": 5,
     "metadata": {},
     "output_type": "execute_result"
    }
   ],
   "source": [
    "# 2D array from lists\n",
    "list_of_list = [[3,2,1],[1,2,3],[73,1,3]]\n",
    "np.array(list_of_list)"
   ]
  },
  {
   "cell_type": "markdown",
   "metadata": {},
   "source": [
    "Note: python lists can contain many different data types, but Numpy arrays only contains a single data type (uses less space in memory)."
   ]
  },
  {
   "cell_type": "code",
   "execution_count": 7,
   "metadata": {},
   "outputs": [
    {
     "name": "stdout",
     "output_type": "stream",
     "text": [
      "[[[ 1  2  3]\n",
      "  [ 4  5  6]]\n",
      "\n",
      " [[ 7  8  9]\n",
      "  [10 11 12]]\n",
      "\n",
      " [[13 14 15]\n",
      "  [16 17 18]]]\n"
     ]
    }
   ],
   "source": [
    "# 3D arrays \n",
    "arr1_2d = np.array([[1,2,3],[4,5,6]])\n",
    "arr2_2d = np.array([[7,8,9],[10,11,12]])\n",
    "arr3_2d = np.array([[13,14,15],[16,17,18]])\n",
    "\n",
    "arr_3d = np.array([arr1_2d, arr2_2d, arr3_2d])\n",
    "print(arr_3d)"
   ]
  },
  {
   "cell_type": "markdown",
   "metadata": {},
   "source": [
    "arrays with shape (5,) can be considered a row vector or a column vector. It is better to use `reshape` to make it explicit (e.g. row vector(1,5) or column vector (5,1)).\n"
   ]
  },
  {
   "cell_type": "markdown",
   "metadata": {},
   "source": [
    "Matrix vs Tensor\n",
    "- A matrix is a 2D array, a tensor is a n-dimensional array (n>2)."
   ]
  },
  {
   "cell_type": "markdown",
   "metadata": {},
   "source": [
    "#### Shapeshifting\n",
    "to know shape of array, use `shape` attribute\n",
    "\n",
    "to change shape of array, use `reshape`, `flatten` method"
   ]
  },
  {
   "cell_type": "markdown",
   "metadata": {},
   "source": [
    "In 2D array, axis 0 is vertical (rows), axis 1 is horizontal (columns)"
   ]
  },
  {
   "cell_type": "code",
   "execution_count": 8,
   "metadata": {},
   "outputs": [
    {
     "data": {
      "text/plain": [
       "array([1, 2, 3, 4, 8, 2])"
      ]
     },
     "execution_count": 8,
     "metadata": {},
     "output_type": "execute_result"
    }
   ],
   "source": [
    "# Flattening an array \n",
    "array = np.array([[1,2],[3,4],[8,2]])\n",
    "array.flatten()"
   ]
  },
  {
   "cell_type": "code",
   "execution_count": 3,
   "metadata": {},
   "outputs": [
    {
     "data": {
      "text/plain": [
       "array([[1, 2, 5],\n",
       "       [6, 8, 7]])"
      ]
     },
     "execution_count": 3,
     "metadata": {},
     "output_type": "execute_result"
    }
   ],
   "source": [
    "# Reshaping an array \n",
    "array = np.array([[1,2],[5,6],[8,7]])\n",
    "array.reshape(2,3)"
   ]
  },
  {
   "cell_type": "code",
   "execution_count": 10,
   "metadata": {},
   "outputs": [
    {
     "ename": "ValueError",
     "evalue": "cannot reshape array of size 6 into shape (3,3)",
     "output_type": "error",
     "traceback": [
      "\u001b[0;31m---------------------------------------------------------------------------\u001b[0m",
      "\u001b[0;31mValueError\u001b[0m                                Traceback (most recent call last)",
      "Cell \u001b[0;32mIn[10], line 1\u001b[0m\n\u001b[0;32m----> 1\u001b[0m \u001b[43marray\u001b[49m\u001b[38;5;241;43m.\u001b[39;49m\u001b[43mreshape\u001b[49m\u001b[43m(\u001b[49m\u001b[38;5;241;43m3\u001b[39;49m\u001b[43m,\u001b[49m\u001b[38;5;241;43m3\u001b[39;49m\u001b[43m)\u001b[49m\n",
      "\u001b[0;31mValueError\u001b[0m: cannot reshape array of size 6 into shape (3,3)"
     ]
    }
   ],
   "source": [
    "array.reshape(3,3)"
   ]
  },
  {
   "cell_type": "markdown",
   "metadata": {},
   "source": [
    "- when you try to reshape array with incompatible shape"
   ]
  },
  {
   "cell_type": "code",
   "execution_count": null,
   "metadata": {},
   "outputs": [
    {
     "data": {
      "text/plain": [
       "array([[1, 5, 8],\n",
       "       [2, 6, 7]])"
      ]
     },
     "execution_count": 4,
     "metadata": {},
     "output_type": "execute_result"
    }
   ],
   "source": [
    "array.transpose() # or array.T"
   ]
  },
  {
   "cell_type": "markdown",
   "metadata": {},
   "source": [
    "#### Reversing array\n",
    "NumPy’s `np.flip()` function allows you to flip, or reverse, the contents of an array along an axis. When using np.flip(), specify the array you would like to reverse and the axis. If you don’t specify the axis, NumPy will reverse the contents along all of the axes of your input array."
   ]
  },
  {
   "cell_type": "code",
   "execution_count": 5,
   "metadata": {},
   "outputs": [
    {
     "name": "stdout",
     "output_type": "stream",
     "text": [
      "[8 7 6 5 4 3 2 1]\n"
     ]
    }
   ],
   "source": [
    "arr = np.array([1, 2, 3, 4, 5, 6, 7, 8])\n",
    "reversed_arr = np.flip(arr)\n",
    "print(reversed_arr)"
   ]
  },
  {
   "cell_type": "code",
   "execution_count": 6,
   "metadata": {},
   "outputs": [
    {
     "name": "stdout",
     "output_type": "stream",
     "text": [
      "[[12 11 10  9]\n",
      " [ 8  7  6  5]\n",
      " [ 4  3  2  1]]\n"
     ]
    }
   ],
   "source": [
    "arr_2d = np.array([[1, 2, 3, 4], [5, 6, 7, 8], [9, 10, 11, 12]])\n",
    "reversed_arr = np.flip(arr_2d)\n",
    "print(reversed_arr)"
   ]
  },
  {
   "cell_type": "code",
   "execution_count": 7,
   "metadata": {},
   "outputs": [
    {
     "name": "stdout",
     "output_type": "stream",
     "text": [
      "[[ 9 10 11 12]\n",
      " [ 5  6  7  8]\n",
      " [ 1  2  3  4]]\n"
     ]
    }
   ],
   "source": [
    "reversed_arr_rows = np.flip(arr_2d, axis=0)\n",
    "print(reversed_arr_rows)"
   ]
  },
  {
   "cell_type": "code",
   "execution_count": 8,
   "metadata": {},
   "outputs": [
    {
     "name": "stdout",
     "output_type": "stream",
     "text": [
      "[[ 4  3  2  1]\n",
      " [ 8  7  6  5]\n",
      " [12 11 10  9]]\n"
     ]
    }
   ],
   "source": [
    "reversed_arr_columns = np.flip(arr_2d, axis=1)\n",
    "print(reversed_arr_columns)"
   ]
  },
  {
   "cell_type": "markdown",
   "metadata": {},
   "source": [
    "You can also reverse the contents of only one column or row. For example, you can reverse the contents of the row at index position 1 (the second row):"
   ]
  },
  {
   "cell_type": "code",
   "execution_count": 9,
   "metadata": {},
   "outputs": [
    {
     "name": "stdout",
     "output_type": "stream",
     "text": [
      "[[ 1  2  3  4]\n",
      " [ 8  7  6  5]\n",
      " [ 9 10 11 12]]\n"
     ]
    }
   ],
   "source": [
    "arr_2d[1] = np.flip(arr_2d[1])\n",
    "print(arr_2d)"
   ]
  },
  {
   "cell_type": "code",
   "execution_count": 10,
   "metadata": {},
   "outputs": [
    {
     "name": "stdout",
     "output_type": "stream",
     "text": [
      "[[ 1 10  3  4]\n",
      " [ 8  7  6  5]\n",
      " [ 9  2 11 12]]\n"
     ]
    }
   ],
   "source": [
    "arr_2d[:,1] = np.flip(arr_2d[:,1])\n",
    "print(arr_2d)"
   ]
  },
  {
   "cell_type": "markdown",
   "metadata": {},
   "source": [
    "#### Reshaping and flattening multidimensional arrays\n",
    "There are two popular ways to flatten an array: `.flatten()` and `.ravel()`. The primary difference between the two is that the new array created using ravel() is actually a reference to the parent array (i.e., a “view”). This means that any changes to the new array will affect the parent array as well. Since ravel does not create a copy, it’s memory efficient."
   ]
  },
  {
   "cell_type": "code",
   "execution_count": 11,
   "metadata": {},
   "outputs": [
    {
     "data": {
      "text/plain": [
       "array([ 1,  2,  3,  4,  5,  6,  7,  8,  9, 10, 11, 12])"
      ]
     },
     "execution_count": 11,
     "metadata": {},
     "output_type": "execute_result"
    }
   ],
   "source": [
    "x = np.array([[1 , 2, 3, 4], [5, 6, 7, 8], [9, 10, 11, 12]])\n",
    "x.flatten()"
   ]
  },
  {
   "cell_type": "markdown",
   "metadata": {},
   "source": [
    "When you use flatten, changes to your new array won’t change the parent array."
   ]
  },
  {
   "cell_type": "code",
   "execution_count": 12,
   "metadata": {},
   "outputs": [
    {
     "name": "stdout",
     "output_type": "stream",
     "text": [
      "[[ 1  2  3  4]\n",
      " [ 5  6  7  8]\n",
      " [ 9 10 11 12]]\n",
      "[99  2  3  4  5  6  7  8  9 10 11 12]\n"
     ]
    }
   ],
   "source": [
    "a1 = x.flatten()\n",
    "a1[0] = 99\n",
    "print(x)  # Original array\n",
    "print(a1)  # New array"
   ]
  },
  {
   "cell_type": "markdown",
   "metadata": {},
   "source": [
    "But when you use ravel, the changes you make to the new array will affect the parent array."
   ]
  },
  {
   "cell_type": "code",
   "execution_count": 13,
   "metadata": {},
   "outputs": [
    {
     "name": "stdout",
     "output_type": "stream",
     "text": [
      "[[98  2  3  4]\n",
      " [ 5  6  7  8]\n",
      " [ 9 10 11 12]]\n",
      "[98  2  3  4  5  6  7  8  9 10 11 12]\n"
     ]
    }
   ],
   "source": [
    "a2 = x.ravel()\n",
    "a2[0] = 98\n",
    "print(x)  # Original array\n",
    "print(a2)  # New array"
   ]
  },
  {
   "cell_type": "markdown",
   "metadata": {},
   "source": [
    "#### How to access the docstring for more information\n",
    "\n",
    "Python has a built-in `help()` function that can help you access this information. This means that nearly any time you need more information, you can use help() to quickly find the information that you need.\n",
    "\n",
    "Because access to additional information is so useful, `IPython` uses the `?` character as a shorthand for accessing this documentation along with other relevant information.\n",
    "\n",
    "You can reach another level of information by reading the source code of the object you’re interested in. Using a double question mark (`??`) allows you to access the source code.\n"
   ]
  },
  {
   "cell_type": "code",
   "execution_count": 14,
   "metadata": {},
   "outputs": [
    {
     "name": "stdout",
     "output_type": "stream",
     "text": [
      "Help on built-in function max in module builtins:\n",
      "\n",
      "max(...)\n",
      "    max(iterable, *[, default=obj, key=func]) -> value\n",
      "    max(arg1, arg2, *args, *[, key=func]) -> value\n",
      "    \n",
      "    With a single iterable argument, return its biggest item. The\n",
      "    default keyword-only argument specifies an object to return if\n",
      "    the provided iterable is empty.\n",
      "    With two or more arguments, return the largest argument.\n",
      "\n"
     ]
    }
   ],
   "source": [
    "help(max)"
   ]
  },
  {
   "cell_type": "code",
   "execution_count": 15,
   "metadata": {},
   "outputs": [
    {
     "name": "stdout",
     "output_type": "stream",
     "text": [
      "\u001b[0;31mDocstring:\u001b[0m\n",
      "max(iterable, *[, default=obj, key=func]) -> value\n",
      "max(arg1, arg2, *args, *[, key=func]) -> value\n",
      "\n",
      "With a single iterable argument, return its biggest item. The\n",
      "default keyword-only argument specifies an object to return if\n",
      "the provided iterable is empty.\n",
      "With two or more arguments, return the largest argument.\n",
      "\u001b[0;31mType:\u001b[0m      builtin_function_or_method"
     ]
    }
   ],
   "source": [
    "max?"
   ]
  },
  {
   "cell_type": "code",
   "execution_count": 16,
   "metadata": {},
   "outputs": [
    {
     "name": "stdout",
     "output_type": "stream",
     "text": [
      "\u001b[0;31mType:\u001b[0m        ndarray\n",
      "\u001b[0;31mString form:\u001b[0m [1 2 3 4 5 6]\n",
      "\u001b[0;31mLength:\u001b[0m      6\n",
      "\u001b[0;31mFile:\u001b[0m        ~/pjct/self-py/self-py/lib/python3.10/site-packages/numpy/__init__.py\n",
      "\u001b[0;31mDocstring:\u001b[0m  \n",
      "ndarray(shape, dtype=float, buffer=None, offset=0,\n",
      "        strides=None, order=None)\n",
      "\n",
      "An array object represents a multidimensional, homogeneous array\n",
      "of fixed-size items.  An associated data-type object describes the\n",
      "format of each element in the array (its byte-order, how many bytes it\n",
      "occupies in memory, whether it is an integer, a floating point number,\n",
      "or something else, etc.)\n",
      "\n",
      "Arrays should be constructed using `array`, `zeros` or `empty` (refer\n",
      "to the See Also section below).  The parameters given here refer to\n",
      "a low-level method (`ndarray(...)`) for instantiating an array.\n",
      "\n",
      "For more information, refer to the `numpy` module and examine the\n",
      "methods and attributes of an array.\n",
      "\n",
      "Parameters\n",
      "----------\n",
      "(for the __new__ method; see Notes below)\n",
      "\n",
      "shape : tuple of ints\n",
      "    Shape of created array.\n",
      "dtype : data-type, optional\n",
      "    Any object that can be interpreted as a numpy data type.\n",
      "buffer : object exposing buffer interface, optional\n",
      "    Used to fill the array with data.\n",
      "offset : int, optional\n",
      "    Offset of array data in buffer.\n",
      "strides : tuple of ints, optional\n",
      "    Strides of data in memory.\n",
      "order : {'C', 'F'}, optional\n",
      "    Row-major (C-style) or column-major (Fortran-style) order.\n",
      "\n",
      "Attributes\n",
      "----------\n",
      "T : ndarray\n",
      "    Transpose of the array.\n",
      "data : buffer\n",
      "    The array's elements, in memory.\n",
      "dtype : dtype object\n",
      "    Describes the format of the elements in the array.\n",
      "flags : dict\n",
      "    Dictionary containing information related to memory use, e.g.,\n",
      "    'C_CONTIGUOUS', 'OWNDATA', 'WRITEABLE', etc.\n",
      "flat : numpy.flatiter object\n",
      "    Flattened version of the array as an iterator.  The iterator\n",
      "    allows assignments, e.g., ``x.flat = 3`` (See `ndarray.flat` for\n",
      "    assignment examples; TODO).\n",
      "imag : ndarray\n",
      "    Imaginary part of the array.\n",
      "real : ndarray\n",
      "    Real part of the array.\n",
      "size : int\n",
      "    Number of elements in the array.\n",
      "itemsize : int\n",
      "    The memory use of each array element in bytes.\n",
      "nbytes : int\n",
      "    The total number of bytes required to store the array data,\n",
      "    i.e., ``itemsize * size``.\n",
      "ndim : int\n",
      "    The array's number of dimensions.\n",
      "shape : tuple of ints\n",
      "    Shape of the array.\n",
      "strides : tuple of ints\n",
      "    The step-size required to move from one element to the next in\n",
      "    memory. For example, a contiguous ``(3, 4)`` array of type\n",
      "    ``int16`` in C-order has strides ``(8, 2)``.  This implies that\n",
      "    to move from element to element in memory requires jumps of 2 bytes.\n",
      "    To move from row-to-row, one needs to jump 8 bytes at a time\n",
      "    (``2 * 4``).\n",
      "ctypes : ctypes object\n",
      "    Class containing properties of the array needed for interaction\n",
      "    with ctypes.\n",
      "base : ndarray\n",
      "    If the array is a view into another array, that array is its `base`\n",
      "    (unless that array is also a view).  The `base` array is where the\n",
      "    array data is actually stored.\n",
      "\n",
      "See Also\n",
      "--------\n",
      "array : Construct an array.\n",
      "zeros : Create an array, each element of which is zero.\n",
      "empty : Create an array, but leave its allocated memory unchanged (i.e.,\n",
      "        it contains \"garbage\").\n",
      "dtype : Create a data-type.\n",
      "numpy.typing.NDArray : An ndarray alias :term:`generic <generic type>`\n",
      "                       w.r.t. its `dtype.type <numpy.dtype.type>`.\n",
      "\n",
      "Notes\n",
      "-----\n",
      "There are two modes of creating an array using ``__new__``:\n",
      "\n",
      "1. If `buffer` is None, then only `shape`, `dtype`, and `order`\n",
      "   are used.\n",
      "2. If `buffer` is an object exposing the buffer interface, then\n",
      "   all keywords are interpreted.\n",
      "\n",
      "No ``__init__`` method is needed because the array is fully initialized\n",
      "after the ``__new__`` method.\n",
      "\n",
      "Examples\n",
      "--------\n",
      "These examples illustrate the low-level `ndarray` constructor.  Refer\n",
      "to the `See Also` section above for easier ways of constructing an\n",
      "ndarray.\n",
      "\n",
      "First mode, `buffer` is None:\n",
      "\n",
      ">>> import numpy as np\n",
      ">>> np.ndarray(shape=(2,2), dtype=float, order='F')\n",
      "array([[0.0e+000, 0.0e+000], # random\n",
      "       [     nan, 2.5e-323]])\n",
      "\n",
      "Second mode:\n",
      "\n",
      ">>> np.ndarray((2,), buffer=np.array([1,2,3]),\n",
      "...            offset=np.int_().itemsize,\n",
      "...            dtype=int) # offset = 1*itemsize, i.e. skip first element\n",
      "array([2, 3])"
     ]
    }
   ],
   "source": [
    "a = np.array([1, 2, 3, 4, 5, 6])\n",
    "a?"
   ]
  },
  {
   "cell_type": "code",
   "execution_count": 17,
   "metadata": {},
   "outputs": [
    {
     "name": "stdout",
     "output_type": "stream",
     "text": [
      "\u001b[0;31mSignature:\u001b[0m \u001b[0mdouble\u001b[0m\u001b[0;34m(\u001b[0m\u001b[0ma\u001b[0m\u001b[0;34m)\u001b[0m\u001b[0;34m\u001b[0m\u001b[0;34m\u001b[0m\u001b[0m\n",
      "\u001b[0;31mDocstring:\u001b[0m Return a * 2\n",
      "\u001b[0;31mFile:\u001b[0m      /tmp/ipykernel_6748/920213260.py\n",
      "\u001b[0;31mType:\u001b[0m      function"
     ]
    }
   ],
   "source": [
    "def double(a):\n",
    "  '''Return a * 2'''\n",
    "  return a * 2\n",
    "double?"
   ]
  },
  {
   "cell_type": "code",
   "execution_count": 18,
   "metadata": {},
   "outputs": [
    {
     "name": "stdout",
     "output_type": "stream",
     "text": [
      "\u001b[0;31mSignature:\u001b[0m \u001b[0mdouble\u001b[0m\u001b[0;34m(\u001b[0m\u001b[0ma\u001b[0m\u001b[0;34m)\u001b[0m\u001b[0;34m\u001b[0m\u001b[0;34m\u001b[0m\u001b[0m\n",
      "\u001b[0;31mSource:\u001b[0m   \n",
      "\u001b[0;32mdef\u001b[0m \u001b[0mdouble\u001b[0m\u001b[0;34m(\u001b[0m\u001b[0ma\u001b[0m\u001b[0;34m)\u001b[0m\u001b[0;34m:\u001b[0m\u001b[0;34m\u001b[0m\n",
      "\u001b[0;34m\u001b[0m  \u001b[0;34m'''Return a * 2'''\u001b[0m\u001b[0;34m\u001b[0m\n",
      "\u001b[0;34m\u001b[0m  \u001b[0;32mreturn\u001b[0m \u001b[0ma\u001b[0m \u001b[0;34m*\u001b[0m \u001b[0;36m2\u001b[0m\u001b[0;34m\u001b[0m\u001b[0;34m\u001b[0m\u001b[0m\n",
      "\u001b[0;31mFile:\u001b[0m      /tmp/ipykernel_6748/920213260.py\n",
      "\u001b[0;31mType:\u001b[0m      function"
     ]
    }
   ],
   "source": [
    "double??"
   ]
  },
  {
   "cell_type": "markdown",
   "metadata": {},
   "source": [
    "If the object in question is compiled in a language other than Python, using ?? will return the same information as ?. You’ll find this with a lot of built-in objects and types, for example:"
   ]
  },
  {
   "cell_type": "code",
   "execution_count": 19,
   "metadata": {},
   "outputs": [
    {
     "name": "stdout",
     "output_type": "stream",
     "text": [
      "\u001b[0;31mSignature:\u001b[0m \u001b[0mlen\u001b[0m\u001b[0;34m(\u001b[0m\u001b[0mobj\u001b[0m\u001b[0;34m,\u001b[0m \u001b[0;34m/\u001b[0m\u001b[0;34m)\u001b[0m\u001b[0;34m\u001b[0m\u001b[0;34m\u001b[0m\u001b[0m\n",
      "\u001b[0;31mDocstring:\u001b[0m Return the number of items in a container.\n",
      "\u001b[0;31mType:\u001b[0m      builtin_function_or_method"
     ]
    }
   ],
   "source": [
    "len?"
   ]
  },
  {
   "cell_type": "code",
   "execution_count": 20,
   "metadata": {},
   "outputs": [
    {
     "name": "stdout",
     "output_type": "stream",
     "text": [
      "\u001b[0;31mSignature:\u001b[0m \u001b[0mlen\u001b[0m\u001b[0;34m(\u001b[0m\u001b[0mobj\u001b[0m\u001b[0;34m,\u001b[0m \u001b[0;34m/\u001b[0m\u001b[0;34m)\u001b[0m\u001b[0;34m\u001b[0m\u001b[0;34m\u001b[0m\u001b[0m\n",
      "\u001b[0;31mDocstring:\u001b[0m Return the number of items in a container.\n",
      "\u001b[0;31mType:\u001b[0m      builtin_function_or_method"
     ]
    }
   ],
   "source": [
    "len??"
   ]
  },
  {
   "cell_type": "markdown",
   "metadata": {},
   "source": [
    "#### Working with mathematical formulas\n",
    "The ease of implementing mathematical formulas that work on arrays is one of the things that make NumPy so widely used in the scientific Python community.\n",
    "\n",
    "Here are a few examples:\n",
    "- Calculate the sum of all elements in an array: `np.sum(array)`\n",
    "- Calculate the mean of all elements in an array: `np.mean(array)`\n",
    "- Calculate the standard deviation of all elements in an array: `np.std(array)`\n",
    "- Calculate the variance of all elements in an array: `np.var(array)`\n",
    "- Calculate the minimum value in an array: `np.min(array)`\n",
    "- Calculate the maximum value in an array: `np.max(array)`\n",
    "- Calculate the median of all elements in an array: `np.median(array)`\n",
    "- Calculate the dot product of two arrays: `np.dot(array1, array2)`\n",
    "- Calculate the cross product of two arrays: `np.cross(array1, array2)`\n",
    "- Calculate the cumulative sum of elements in an array: `np.cumsum(array)`\n",
    "- Calculate the cumulative product of elements in an array: `np.cumprod(array)`\n",
    "- Calculate the inner product of two arrays: `np.inner(array1, array2)`\n",
    "- Calculate the determinant of an array: `np.linalg.det(array)`\n",
    "- Calculate the inverse of an array: `np.linalg.inv(array)`\n",
    "- Calculate the trace of an array: `np.trace(array)`\n",
    "- Calculate the eigenvalues and eigenvectors of an array: `np.linalg.eig(array)`\n",
    "- Calculate the singular value decomposition of an array: `np.linalg.svd(array)`\n",
    "- Calculate the matrix multiplication of two arrays: `np.matmul(array1, array2)`\n",
    "- Calculate the element-wise multiplication of two arrays: `np.multiply(array1, array2)`\n",
    "- Calculate the element-wise division of two arrays: `np.divide(array1, array2)`\n",
    "- Calculate the element-wise addition of two arrays: `np.add(array1, array2)`\n",
    "- Calculate the element-wise subtraction of two arrays: `np.subtract(array1, array2)`\n",
    "- Calculate the element-wise exponentiation of an array: `np.exp(array)`\n",
    "- Calculate the element-wise square root of an array: `np.sqrt(array)`\n",
    "- Calculate the element-wise sine of an array: `np.sin(array)`\n",
    "- Calculate the element-wise cosine of an array: `np.cos(array)`\n",
    "- Calculate the element-wise tangent of an array: `np.tan(array)`\n",
    "- Calculate the element-wise arcsine of an array: `np.arcsin(array)`\n",
    "- Calculate the element-wise arccosine of an array: `np.arccos(array)`\n",
    "- Calculate the element-wise arctangent of an array: `np.arctan(array)`\n",
    "- Calculate the element-wise hyperbolic sine of an array: `np.sinh(array)`\n",
    "- Calculate the element-wise hyperbolic cosine of an array: `np.cosh(array)`\n",
    "- Calculate the element-wise hyperbolic tangent of an array: `np.tanh(array)`\n",
    "- Calculate the element-wise inverse hyperbolic sine of an array: `np.arcsinh(array)`\n",
    "- Calculate the element-wise inverse hyperbolic cosine of an array: `np.arccosh(array)`\n",
    "- Calculate the element-wise inverse hyperbolic tangent of an array: `np.arctanh(array)`\n",
    "- Calculate the element-wise logarithm of an array: `np.log(array)`\n",
    "- Calculate the element-wise logarithm base 10 of an array: `np.log10(array)`\n",
    "- Calculate the element-wise logarithm base 2 of an array: `np.log2(array)`\n",
    "- Calculate the element-wise absolute value of an array: `np.abs(array)`\n",
    "- Calculate the element-wise rounding of an array: `np.round(array)`\n",
    "- Calculate the element-wise floor of an array: `np.floor(array)`\n",
    "- Calculate the element-wise ceiling of an array: `np.ceil(array)`\n",
    "- Calculate the element-wise sign of an array: `np.sign(array)`\n",
    "- Calculate the element-wise modulo of an array: `np.mod(array1, array2)`\n",
    "- Calculate the element-wise power of an array: `np.power(array1, array2)`\n",
    "- Calculate the element-wise greatest common divisor of an array: `np.gcd(array1, array2)`\n",
    "- Calculate the element-wise least common multiple of an array: `np.lcm(array1, array2)`\n",
    "- Calculate the element-wise logical AND of two arrays: `np.logical_and(array1, array2)`\n",
    "- Calculate the element-wise logical OR of two arrays: `np.logical_or(array1, array2)`\n",
    "- Calculate the element-wise logical NOT of an array: `np.logical_not(array)`\n",
    "- Calculate the element-wise logical XOR of two arrays: `np.logical_xor(array1, array2)`\n",
    "- Calculate the element-wise bitwise AND of two arrays: `np.bitwise_and(array1, array2)`\n",
    "- Calculate the element-wise bitwise OR of two arrays: `np.bitwise_or(array1, array2)`\n",
    "- Calculate the element-wise bitwise NOT of an array: `np.bitwise_not(array)`\n",
    "- Calculate the element-wise bitwise XOR of two arrays: `np.bitwise_xor(array1, array2)`\n",
    "- Calculate the element-wise left shift of an array: `np.left_shift(array, shift)`\n",
    "- Calculate the element-wise right shift of an array: `np.right_shift(array, shift)`\n",
    "- Calculate the element-wise absolute difference of two arrays: `np.abs(array1 - array2)`\n",
    "etc.\n",
    "\n",
    "```python\n",
    "# mean square error\n",
    "n = len(array1)\n",
    "error = (1/n)*`np.sum(`np.square(array1 - array2))\n",
    "```\n",
    "What makes this work so well is that predictions and labels can contain one or a thousand values. They only need to be the same size."
   ]
  },
  {
   "cell_type": "markdown",
   "metadata": {},
   "source": [
    "#### How to save and load NumPy objects\n",
    "\n",
    "- `np.save`, `np.savez`, `np.savetxt`, `np.load`, `np.loadtxt`\n",
    "\n",
    "You will, at some point, want to save your arrays to disk and load them back without having to re-run the code. Fortunately, there are several ways to save and load objects with NumPy. The ndarray objects can be saved to and loaded from the disk files with loadtxt and savetxt functions that handle normal text files, load and save functions that handle NumPy binary files with a `.npy` file extension, and a savez function that handles NumPy files with a `.npz` file extension.\n",
    "\n",
    "The `.npy` and `.npz` files store data, shape, dtype, and other information required to reconstruct the ndarray in a way that allows the array to be correctly retrieved, even when the file is on another machine with different architecture.\n",
    "\n",
    "If you want to store a single ndarray object, store it as a `.npy` file using `np.save`. If you want to store more than one ndarray object in a single file, save it as a `.npz` file using `np.savez`. You can also save several arrays into a single file in compressed npz format with `savez_compressed`."
   ]
  },
  {
   "cell_type": "code",
   "execution_count": null,
   "metadata": {},
   "outputs": [],
   "source": [
    "a = np.array([1, 2, 3, 4, 5, 6])\n",
    "np.save('filename', a) #saves as filename.npy"
   ]
  },
  {
   "cell_type": "code",
   "execution_count": 22,
   "metadata": {},
   "outputs": [
    {
     "data": {
      "text/plain": [
       "array([1, 2, 3, 4, 5, 6])"
      ]
     },
     "execution_count": 22,
     "metadata": {},
     "output_type": "execute_result"
    }
   ],
   "source": [
    "# reconstruct the array from the file\n",
    "b = np.load('filename.npy')\n",
    "b"
   ]
  },
  {
   "cell_type": "markdown",
   "metadata": {},
   "source": [
    "You can save a NumPy array as a plain text file like a `.csv` or `.txt` file with np.savetxt."
   ]
  },
  {
   "cell_type": "code",
   "execution_count": 23,
   "metadata": {},
   "outputs": [],
   "source": [
    "csv_arr = np.array([1, 2, 3, 4, 5, 6, 7, 8])\n",
    "np.savetxt('new_file.csv', csv_arr)\n"
   ]
  },
  {
   "cell_type": "code",
   "execution_count": 24,
   "metadata": {},
   "outputs": [
    {
     "data": {
      "text/plain": [
       "array([1., 2., 3., 4., 5., 6., 7., 8.])"
      ]
     },
     "execution_count": 24,
     "metadata": {},
     "output_type": "execute_result"
    }
   ],
   "source": [
    "np.loadtxt('new_file.csv')"
   ]
  },
  {
   "cell_type": "markdown",
   "metadata": {},
   "source": [
    "### Searching, sorting and counting\n",
    "- `np.where()`, `np.sort()`, `np.argsort()`, `np.argmax()`, `np.argmin()`, `np.nonzero()`, `np.count_nonzero()`, `np.bincount()`, `np.searchsorted()`, `np.extract()`"
   ]
  },
  {
   "cell_type": "code",
   "execution_count": null,
   "metadata": {},
   "outputs": [
    {
     "name": "stdout",
     "output_type": "stream",
     "text": [
      "(array([1, 3, 5, 7]),)\n"
     ]
    }
   ],
   "source": [
    "# example of np.where\n",
    "array = np.array([1, 2, 3, 4, 5, 6, 7, 8])\n",
    "result = np.where(array % 2 == 0)\n",
    "print(result)"
   ]
  },
  {
   "cell_type": "code",
   "execution_count": 27,
   "metadata": {},
   "outputs": [
    {
     "data": {
      "text/plain": [
       "array([[1, 2, 3],\n",
       "       [4, 5, 7]])"
      ]
     },
     "execution_count": 27,
     "metadata": {},
     "output_type": "execute_result"
    }
   ],
   "source": [
    "# example of np.sort\n",
    "array = np.array([3, 2, 1, 7, 4, 5])\n",
    "array = array.reshape(2,3)\n",
    "np.sort(array)"
   ]
  },
  {
   "cell_type": "markdown",
   "metadata": {},
   "source": [
    "#### argsort()\n",
    "The argsort() function is used to perform an indirect sort along the given axis using the algorithm specified by the kind keyword. It returns an array of indices of the same shape as a that index data along the given axis in sorted order."
   ]
  },
  {
   "cell_type": "code",
   "execution_count": 30,
   "metadata": {},
   "outputs": [
    {
     "name": "stdout",
     "output_type": "stream",
     "text": [
      "[1 2 0]\n",
      "[1 2 3]\n"
     ]
    }
   ],
   "source": [
    "import numpy as np\n",
    "x = np.array([3, 1, 2])\n",
    "idx = np.argsort(x)\n",
    "print(idx)\n",
    "print(x[idx])"
   ]
  },
  {
   "cell_type": "code",
   "execution_count": 31,
   "metadata": {},
   "outputs": [
    {
     "name": "stdout",
     "output_type": "stream",
     "text": [
      "[[0 3]\n",
      " [2 2]]\n",
      "[[0 1]\n",
      " [1 0]]\n",
      "[[0 2]\n",
      " [2 3]]\n"
     ]
    }
   ],
   "source": [
    "x = np.array([[0, 3], [2, 2]])\n",
    "print(x)\n",
    "ind = np.argsort(x, axis=0)  # sorts along first axis (vertical axis/along rows)\n",
    "print(ind)\n",
    "y = np.take_along_axis(x, ind, axis=0)  # same as np.sort(x, axis=0)\n",
    "print(y)"
   ]
  },
  {
   "cell_type": "code",
   "execution_count": 32,
   "metadata": {},
   "outputs": [
    {
     "name": "stdout",
     "output_type": "stream",
     "text": [
      "[[0 1]\n",
      " [0 1]]\n",
      "[[0 3]\n",
      " [2 2]]\n"
     ]
    }
   ],
   "source": [
    "ind = np.argsort(x, axis=1)  # sorts along last axis (across)\n",
    "print(ind)\n",
    "y = np.take_along_axis(x, ind, axis=1)  # same as np.sort(x, axis=1)\n",
    "print(y)"
   ]
  },
  {
   "cell_type": "markdown",
   "metadata": {},
   "source": [
    "#### argmax()\n",
    "The argmax() function returns the indices of the maximum values along an axis. The axis parameter is optional. If it is not provided, the index is calculated along the flattened array."
   ]
  },
  {
   "cell_type": "code",
   "execution_count": 33,
   "metadata": {},
   "outputs": [
    {
     "name": "stdout",
     "output_type": "stream",
     "text": [
      "[[10 11 12]\n",
      " [13 14 15]]\n",
      "5\n",
      "[1 1 1]\n",
      "[2 2]\n"
     ]
    }
   ],
   "source": [
    "import numpy as np\n",
    "a = np.arange(6).reshape(2,3) + 10\n",
    "print(a)\n",
    "print(np.argmax(a))\n",
    "print(np.argmax(a, axis=0))\n",
    "print(np.argmax(a, axis=1))"
   ]
  },
  {
   "cell_type": "code",
   "execution_count": 34,
   "metadata": {},
   "outputs": [
    {
     "name": "stdout",
     "output_type": "stream",
     "text": [
      "[0 5 2 3 4 5]\n",
      "1\n"
     ]
    }
   ],
   "source": [
    "b = np.arange(6)\n",
    "b[1] = 5\n",
    "print(b)\n",
    "print(np.argmax(b))  # Only the first occurrence is returned."
   ]
  },
  {
   "cell_type": "code",
   "execution_count": null,
   "metadata": {},
   "outputs": [],
   "source": []
  },
  {
   "cell_type": "code",
   "execution_count": null,
   "metadata": {},
   "outputs": [],
   "source": []
  },
  {
   "cell_type": "code",
   "execution_count": null,
   "metadata": {},
   "outputs": [],
   "source": []
  },
  {
   "cell_type": "code",
   "execution_count": null,
   "metadata": {},
   "outputs": [],
   "source": []
  },
  {
   "cell_type": "markdown",
   "metadata": {},
   "source": [
    "#### Numpy vs python data types\n",
    "sample python data types\n",
    "- int, float, str, list, tuple, dict, set, bool\n",
    "\n",
    "sample numpy data types\n",
    "- int8, int16, int32, int64, uint8, uint16, uint32, uint64, float16, float32, float64, complex64, complex128, bool, str, bytes, object"
   ]
  },
  {
   "cell_type": "code",
   "execution_count": 12,
   "metadata": {},
   "outputs": [
    {
     "data": {
      "text/plain": [
       "dtype('int64')"
      ]
     },
     "execution_count": 12,
     "metadata": {},
     "output_type": "execute_result"
    }
   ],
   "source": [
    "array = np.array([0, 1, 2, 3, 4, 5, 6, 7])\n",
    "array.dtype"
   ]
  },
  {
   "cell_type": "code",
   "execution_count": 13,
   "metadata": {},
   "outputs": [
    {
     "name": "stdout",
     "output_type": "stream",
     "text": [
      "int64\n",
      "float64\n"
     ]
    }
   ],
   "source": [
    "# Type conversions\n",
    "array = np.array([1, 2, 3, 4, 5])\n",
    "print(array.dtype)\n",
    "array = array.astype(np.float64)\n",
    "print(array.dtype)"
   ]
  },
  {
   "cell_type": "markdown",
   "metadata": {},
   "source": [
    "### Type coersion\n",
    "when you try to create an array with different data types, numpy will try to convert all elements to the same data type\n",
    "- For example, if you try to create an array with integers and floats, numpy will convert all elements to floats.\n",
    "- Adding an integer to an array of booleans will change all booleans in to integers.\n",
    "\n",
    "### Broadcasting\n",
    "When performing operations between arrays of different shapes, numpy automatically applies the broadcasting rule.\n",
    "\n",
    "For example, consider two arrays:\n",
    "```python\n",
    "a = np.array([1.0, 2.0, 3.0])\n",
    "b = np.array([2.0, 2.0, 2.0])\n",
    "```\n",
    "The shapes of the arrays are:\n",
    "- a.shape = (3,)\n",
    "- b.shape = (3,)\n",
    "Since the arrays have the same shape, element-wise operations are performed. For example:\n",
    "```python\n",
    "a * b = [ 2.  4.  6.]\n",
    "```\n",
    "Broadcasting allows these types of binary operations to be performed on arrays of different sizes–for example, we can just as easily add a scalar (think of it as a zero-dimensional array) to an array:\n",
    "```python\n",
    "a + 5 = [ 6.  7.  8.]\n",
    "```\n",
    "We can think of the scalar 5 being stretched during the operation into an array with the same shape as a so that the shapes are compatible for element-wise addition."
   ]
  },
  {
   "cell_type": "markdown",
   "metadata": {},
   "source": [
    "**Q2. What are the associated attributes and functions with numpy arrays?**\n",
    "\n",
    "**Ans.** You don't have to worry about that, you can easily check them yourself, if you forget. Run `dir(array_name)`. "
   ]
  },
  {
   "cell_type": "code",
   "execution_count": 3,
   "metadata": {},
   "outputs": [
    {
     "data": {
      "text/plain": [
       "['T',\n",
       " '__abs__',\n",
       " '__add__',\n",
       " '__and__',\n",
       " '__array__',\n",
       " '__array_finalize__',\n",
       " '__array_function__',\n",
       " '__array_interface__',\n",
       " '__array_namespace__',\n",
       " '__array_priority__',\n",
       " '__array_struct__',\n",
       " '__array_ufunc__',\n",
       " '__array_wrap__',\n",
       " '__bool__',\n",
       " '__class__',\n",
       " '__class_getitem__',\n",
       " '__complex__',\n",
       " '__contains__',\n",
       " '__copy__',\n",
       " '__deepcopy__',\n",
       " '__delattr__',\n",
       " '__delitem__',\n",
       " '__dir__',\n",
       " '__divmod__',\n",
       " '__dlpack__',\n",
       " '__dlpack_device__',\n",
       " '__doc__',\n",
       " '__eq__',\n",
       " '__float__',\n",
       " '__floordiv__',\n",
       " '__format__',\n",
       " '__ge__',\n",
       " '__getattribute__',\n",
       " '__getitem__',\n",
       " '__gt__',\n",
       " '__hash__',\n",
       " '__iadd__',\n",
       " '__iand__',\n",
       " '__ifloordiv__',\n",
       " '__ilshift__',\n",
       " '__imatmul__',\n",
       " '__imod__',\n",
       " '__imul__',\n",
       " '__index__',\n",
       " '__init__',\n",
       " '__init_subclass__',\n",
       " '__int__',\n",
       " '__invert__',\n",
       " '__ior__',\n",
       " '__ipow__',\n",
       " '__irshift__',\n",
       " '__isub__',\n",
       " '__iter__',\n",
       " '__itruediv__',\n",
       " '__ixor__',\n",
       " '__le__',\n",
       " '__len__',\n",
       " '__lshift__',\n",
       " '__lt__',\n",
       " '__matmul__',\n",
       " '__mod__',\n",
       " '__mul__',\n",
       " '__ne__',\n",
       " '__neg__',\n",
       " '__new__',\n",
       " '__or__',\n",
       " '__pos__',\n",
       " '__pow__',\n",
       " '__radd__',\n",
       " '__rand__',\n",
       " '__rdivmod__',\n",
       " '__reduce__',\n",
       " '__reduce_ex__',\n",
       " '__repr__',\n",
       " '__rfloordiv__',\n",
       " '__rlshift__',\n",
       " '__rmatmul__',\n",
       " '__rmod__',\n",
       " '__rmul__',\n",
       " '__ror__',\n",
       " '__rpow__',\n",
       " '__rrshift__',\n",
       " '__rshift__',\n",
       " '__rsub__',\n",
       " '__rtruediv__',\n",
       " '__rxor__',\n",
       " '__setattr__',\n",
       " '__setitem__',\n",
       " '__setstate__',\n",
       " '__sizeof__',\n",
       " '__str__',\n",
       " '__sub__',\n",
       " '__subclasshook__',\n",
       " '__truediv__',\n",
       " '__xor__',\n",
       " 'all',\n",
       " 'any',\n",
       " 'argmax',\n",
       " 'argmin',\n",
       " 'argpartition',\n",
       " 'argsort',\n",
       " 'astype',\n",
       " 'base',\n",
       " 'byteswap',\n",
       " 'choose',\n",
       " 'clip',\n",
       " 'compress',\n",
       " 'conj',\n",
       " 'conjugate',\n",
       " 'copy',\n",
       " 'ctypes',\n",
       " 'cumprod',\n",
       " 'cumsum',\n",
       " 'data',\n",
       " 'device',\n",
       " 'diagonal',\n",
       " 'dot',\n",
       " 'dtype',\n",
       " 'dump',\n",
       " 'dumps',\n",
       " 'fill',\n",
       " 'flags',\n",
       " 'flat',\n",
       " 'flatten',\n",
       " 'getfield',\n",
       " 'imag',\n",
       " 'item',\n",
       " 'itemset',\n",
       " 'itemsize',\n",
       " 'mT',\n",
       " 'max',\n",
       " 'mean',\n",
       " 'min',\n",
       " 'nbytes',\n",
       " 'ndim',\n",
       " 'newbyteorder',\n",
       " 'nonzero',\n",
       " 'partition',\n",
       " 'prod',\n",
       " 'ptp',\n",
       " 'put',\n",
       " 'ravel',\n",
       " 'real',\n",
       " 'repeat',\n",
       " 'reshape',\n",
       " 'resize',\n",
       " 'round',\n",
       " 'searchsorted',\n",
       " 'setfield',\n",
       " 'setflags',\n",
       " 'shape',\n",
       " 'size',\n",
       " 'sort',\n",
       " 'squeeze',\n",
       " 'std',\n",
       " 'strides',\n",
       " 'sum',\n",
       " 'swapaxes',\n",
       " 'take',\n",
       " 'to_device',\n",
       " 'tobytes',\n",
       " 'tofile',\n",
       " 'tolist',\n",
       " 'tostring',\n",
       " 'trace',\n",
       " 'transpose',\n",
       " 'var',\n",
       " 'view']"
      ]
     },
     "execution_count": 3,
     "metadata": {},
     "output_type": "execute_result"
    }
   ],
   "source": [
    "# see attributes and methods\n",
    "dir(array)"
   ]
  },
  {
   "cell_type": "markdown",
   "metadata": {},
   "source": [
    "Some useful attributes"
   ]
  },
  {
   "cell_type": "code",
   "execution_count": 4,
   "metadata": {},
   "outputs": [
    {
     "name": "stdout",
     "output_type": "stream",
     "text": [
      "(5,)\n",
      "int64\n",
      "1\n",
      "5\n",
      "3\n",
      "[2 3 4]\n",
      "[[1]\n",
      " [2]\n",
      " [3]\n",
      " [4]\n",
      " [5]]\n",
      "8\n",
      "40\n"
     ]
    }
   ],
   "source": [
    "# shape\n",
    "print(array.shape) # (5,)\n",
    "\n",
    "# dtype\n",
    "print(array.dtype) # data type \n",
    "\n",
    "# Note: Numpy supports some native data types such as int8, int16, int32, int64, uint8, uint16, uint32, uint64, float16, float32, float64, complex64, complex128\n",
    "# along with other data types provided by python types such as bool, str, list, tuple, set, dict\n",
    "\n",
    "# ndim\n",
    "print(array.ndim) # number of dimensions\n",
    "\n",
    "# size\n",
    "print(array.size) # number of elements\n",
    "\n",
    "# indexing\n",
    "print(array[2])\n",
    "\n",
    "# slicing\n",
    "print(array[1:4]) # [start, end], end is exclusive\n",
    "\n",
    "# reshape\n",
    "print(array.reshape(5,1)) # 5 rows and 1 column\n",
    "\n",
    "# itemsize\n",
    "print(array.itemsize) # size (in bytes) of each element\n",
    "\n",
    "# nbytes\n",
    "print(array.nbytes) # total memory consumed by the array (in bytes)"
   ]
  },
  {
   "cell_type": "markdown",
   "metadata": {},
   "source": [
    "`itemsize` and `nbytes` are very useful to know, specially for memory consumption.\n",
    "\n",
    "**Q3. What will itemsize return when array have mixed type of elements?**\n",
    "\n",
    "**Q4. What will nbytes return when array have mixed type of elements?**\n",
    "\n",
    "I would like you to ponder about this. Please read the below example."
   ]
  },
  {
   "cell_type": "code",
   "execution_count": 5,
   "metadata": {},
   "outputs": [
    {
     "name": "stdout",
     "output_type": "stream",
     "text": [
      "for x\n",
      "12\n",
      "24\n",
      "for y\n",
      "8\n",
      "16\n",
      "for z\n",
      "8\n",
      "16\n",
      "for p\n",
      "8\n",
      "16\n",
      "for q\n",
      "24\n",
      "48\n",
      "for r\n",
      "128\n",
      "384\n"
     ]
    }
   ],
   "source": [
    "x = [\"cat\",\"dog\"]\n",
    "y = [2, 2.0]\n",
    "z = [2, 3]\n",
    "p = [3.0, 4.52]\n",
    "q = [\"hey\", \"kumaar\"]\n",
    "r = [1, 2.5, \"hello\"]\n",
    "arrx = np.array(x)\n",
    "arry = np.array(y)\n",
    "arrz = np.array(z)\n",
    "arrp = np.array(p)\n",
    "arrq = np.array(q)\n",
    "arrr = np.array(r)\n",
    "\n",
    "print(\"for x\")\n",
    "print(arrx.itemsize)\n",
    "print(arrx.nbytes)\n",
    "\n",
    "print(\"for y\")\n",
    "print(arry.itemsize)\n",
    "print(arry.nbytes)\n",
    "\n",
    "print(\"for z\")\n",
    "print(arrz.itemsize)\n",
    "print(arrz.nbytes)\n",
    "\n",
    "print(\"for p\")\n",
    "print(arrp.itemsize)\n",
    "print(arrp.nbytes)\n",
    "\n",
    "print(\"for q\")\n",
    "print(arrq.itemsize)\n",
    "print(arrq.nbytes)\n",
    "\n",
    "print(\"for r\")\n",
    "print(arrr.itemsize)\n",
    "print(arrr.nbytes)"
   ]
  },
  {
   "cell_type": "markdown",
   "metadata": {},
   "source": [
    "The story is that, memory allocation is often dependent on your system architecture. In `NumPy`, arrays are optimized for memory efficiency by using a consistent data type (`dtype`) for all elements. When creating arrays with homogeneous data types like `int` or `float`, NumPy assigns each element a fixed number of bytes (e.g., 4 or 8 bytes per integer in `int32` or `int64` formats, respectively). This structure allows for contiguous memory allocation, efficient storage, and rapid access.\n",
    "\n",
    "However, when arrays contain mixed data types (e.g., `int`, `float`, and `str`), NumPy defaults to a `dtype=object`. This means each element becomes a reference (or pointer) to a Python object rather than raw binary data, significantly increasing memory usage. On a 64-bit system, an object array may use between 64 and 128 bytes per element due to **pointer overhead, alignment, and metadata storage**. For instance, a mixed-type array like `[1, 2.5, \"hello\"]` will typically consume more memory per element than homogeneous arrays, as each element is an independent Python object requiring its own memory allocation.\n",
    "\n",
    "Efficient memory use in NumPy is therefore achieved by **avoiding mixed-type arrays** and sticking to arrays with a single primitive data type when possible, as this ensures the array remains compact and computationally efficient."
   ]
  },
  {
   "cell_type": "markdown",
   "metadata": {},
   "source": [
    "##### Creating array when you don't know its element, but dimensions"
   ]
  },
  {
   "cell_type": "markdown",
   "metadata": {},
   "source": [
    "NumPy offers several functions to create arrays with initial placeholder content. These minimize the necessity of growing arrays, an expensive operation.\n",
    "\n",
    "- np.zeroes()\n",
    "- np.random.random()\n",
    "- np.arange()"
   ]
  },
  {
   "cell_type": "markdown",
   "metadata": {},
   "source": [
    "By default, the dtype of the created array is `float64`, but it can be specified via the key word argument dtype."
   ]
  },
  {
   "cell_type": "code",
   "execution_count": 7,
   "metadata": {},
   "outputs": [
    {
     "data": {
      "text/plain": [
       "array([[0, 0, 0],\n",
       "       [0, 0, 0]])"
      ]
     },
     "execution_count": 7,
     "metadata": {},
     "output_type": "execute_result"
    }
   ],
   "source": [
    "# using zeros\n",
    "np.zeros((2, 3), dtype=int)  # 2 rows and 3 columns fill with 0."
   ]
  },
  {
   "cell_type": "code",
   "execution_count": null,
   "metadata": {},
   "outputs": [
    {
     "data": {
      "text/plain": [
       "array([[0.62236168, 0.08083366, 0.31432871, 0.77193502],\n",
       "       [0.25674201, 0.93217143, 0.25345407, 0.89578726]])"
      ]
     },
     "execution_count": 6,
     "metadata": {},
     "output_type": "execute_result"
    }
   ],
   "source": [
    "np.random.random((2,4)) # 2 rows and 4 columns fill with random numbers between 0 and 1"
   ]
  },
  {
   "cell_type": "code",
   "execution_count": 8,
   "metadata": {},
   "outputs": [
    {
     "data": {
      "text/plain": [
       "array([[[1, 1, 1, 1],\n",
       "        [1, 1, 1, 1],\n",
       "        [1, 1, 1, 1]],\n",
       "\n",
       "       [[1, 1, 1, 1],\n",
       "        [1, 1, 1, 1],\n",
       "        [1, 1, 1, 1]]], dtype=int16)"
      ]
     },
     "execution_count": 8,
     "metadata": {},
     "output_type": "execute_result"
    }
   ],
   "source": [
    "# using ones\n",
    "np.ones((2, 3, 4), dtype=np.int16) "
   ]
  },
  {
   "cell_type": "markdown",
   "metadata": {},
   "source": [
    "The code `np.ones((2, 3, 4), dtype=np.int16)` creates a 3-dimensional array filled with ones, shaped as `(2, 3, 4)` with a data type of `int16`.\n",
    "\n",
    "To understand the structure, let’s move from the rightmost dimension to the left:\n",
    "\n",
    "1. **Innermost Dimension (4)**: Start by creating an array with 4 elements, each set to `1`.\n",
    "2. **Middle Dimension (3)**: Make 3 copies of this 4-element array, stacking them to form a `3x4` array.\n",
    "3. **Outermost Dimension (2)**: Finally, create 2 copies of the `3x4` array, stacking them to form a `2x3x4` array.\n",
    "\n",
    "So, the array will have 2 layers, each containing a `3x4` grid filled with `1`s.\n"
   ]
  },
  {
   "cell_type": "code",
   "execution_count": 9,
   "metadata": {},
   "outputs": [
    {
     "data": {
      "text/plain": [
       "array([[4.84071476e-310, 0.00000000e+000, 0.00000000e+000],\n",
       "       [0.00000000e+000, 0.00000000e+000, 0.00000000e+000]])"
      ]
     },
     "execution_count": 9,
     "metadata": {},
     "output_type": "execute_result"
    }
   ],
   "source": [
    "# using empty (creates random elements depending upon the state of the memory)\n",
    "np.empty((2, 3))"
   ]
  },
  {
   "cell_type": "markdown",
   "metadata": {},
   "source": [
    "##### Sequential data generation"
   ]
  },
  {
   "cell_type": "markdown",
   "metadata": {},
   "source": [
    "To create sequences of numbers, NumPy provides the `arange` function which is analogous to the Python built-in `range`, but returns an array."
   ]
  },
  {
   "cell_type": "code",
   "execution_count": 10,
   "metadata": {},
   "outputs": [
    {
     "data": {
      "text/plain": [
       "array([10, 15, 20, 25])"
      ]
     },
     "execution_count": 10,
     "metadata": {},
     "output_type": "execute_result"
    }
   ],
   "source": [
    "np.arange(10, 30, 5) # create an array from 10 to 30 (exclusive) with step size of 5"
   ]
  },
  {
   "cell_type": "code",
   "execution_count": 11,
   "metadata": {},
   "outputs": [
    {
     "data": {
      "text/plain": [
       "array([0. , 0.3, 0.6, 0.9, 1.2, 1.5, 1.8])"
      ]
     },
     "execution_count": 11,
     "metadata": {},
     "output_type": "execute_result"
    }
   ],
   "source": [
    "np.arange(0, 2, 0.3) # supports float values"
   ]
  },
  {
   "cell_type": "markdown",
   "metadata": {},
   "source": [
    "When `arange` is used with floating point arguments, it is generally not possible to predict the number of elements obtained, due to the finite floating point precision. For this reason, it is usually better to use the function `linspace` that receives as an argument the number of elements that we want, instead of the step:"
   ]
  },
  {
   "cell_type": "code",
   "execution_count": 12,
   "metadata": {},
   "outputs": [
    {
     "data": {
      "text/plain": [
       "array([0.  , 0.25, 0.5 , 0.75, 1.  , 1.25, 1.5 , 1.75, 2.  ])"
      ]
     },
     "execution_count": 12,
     "metadata": {},
     "output_type": "execute_result"
    }
   ],
   "source": [
    "np.linspace(0, 2, 9) # 9 numbers from 0 to 2"
   ]
  },
  {
   "cell_type": "code",
   "execution_count": 13,
   "metadata": {},
   "outputs": [
    {
     "name": "stdout",
     "output_type": "stream",
     "text": [
      "[ 0.00000000e+00  6.42787610e-01  9.84807753e-01  8.66025404e-01\n",
      "  3.42020143e-01 -3.42020143e-01 -8.66025404e-01 -9.84807753e-01\n",
      " -6.42787610e-01 -2.44929360e-16]\n"
     ]
    }
   ],
   "source": [
    "x = np.linspace(0, 2 * np.pi, 10) # useful to evaluate function at lots of points\n",
    "f = np.sin(x)\n",
    "print(f)"
   ]
  },
  {
   "cell_type": "markdown",
   "metadata": {},
   "source": [
    "##### Shape like array creation"
   ]
  },
  {
   "cell_type": "markdown",
   "metadata": {},
   "source": [
    "``` python\n",
    "numpy.zeros_like(a, dtype=None, order='K', subok=True, shape=None, *, device=None)```\n",
    "\n",
    "Return an array of zeros with the same shape and type as a given array."
   ]
  },
  {
   "cell_type": "code",
   "execution_count": 14,
   "metadata": {},
   "outputs": [
    {
     "name": "stdout",
     "output_type": "stream",
     "text": [
      "[[0 1 2]\n",
      " [3 4 5]]\n",
      "[[0 0 0]\n",
      " [0 0 0]]\n"
     ]
    }
   ],
   "source": [
    "x = np.arange(6)\n",
    "x = x.reshape((2, 3))\n",
    "print(x)\n",
    "y =np.zeros_like(x)\n",
    "print(y)"
   ]
  },
  {
   "cell_type": "markdown",
   "metadata": {},
   "source": [
    "``` python \n",
    "numpy.ones_like(a, dtype=None, order='K', subok=True, shape=None, *, device=None)\n",
    "```\n",
    "Return an array of ones with the same shape and type as a given array."
   ]
  },
  {
   "cell_type": "code",
   "execution_count": 15,
   "metadata": {},
   "outputs": [
    {
     "name": "stdout",
     "output_type": "stream",
     "text": [
      "[[0 1 2]\n",
      " [3 4 5]]\n",
      "[[1 1 1]\n",
      " [1 1 1]]\n"
     ]
    }
   ],
   "source": [
    "x = np.arange(6)\n",
    "x = x.reshape((2, 3))\n",
    "print(x)\n",
    "y = np.ones_like(x) \n",
    "print(y)"
   ]
  },
  {
   "cell_type": "markdown",
   "metadata": {},
   "source": [
    "```python \n",
    "numpy.empty_like(prototype, dtype=None, order='K', subok=True, shape=None, *, device=None)\n",
    "``` \n",
    "Return a new array with the same shape and type as a given array."
   ]
  },
  {
   "cell_type": "code",
   "execution_count": 16,
   "metadata": {},
   "outputs": [
    {
     "name": "stdout",
     "output_type": "stream",
     "text": [
      "[[         23917511272                    0 -1792968743870853308]\n",
      " [     131913430271424      131913430299632 -5329836669818217850]]\n",
      "[[4.9e-324 9.9e-324 1.5e-323]\n",
      " [2.0e-323 2.5e-323 3.0e-323]]\n"
     ]
    }
   ],
   "source": [
    "a = ([1,2,3], [4,5,6])        # a is array-like\n",
    "x = np.empty_like(a)\n",
    "print(x)\n",
    "a = np.array([[1., 2., 3.],[4.,5.,6.]])\n",
    "y = np.empty_like(a)\n",
    "print(y)"
   ]
  },
  {
   "cell_type": "markdown",
   "metadata": {},
   "source": [
    "### Creating array from existing data\n",
    "- slicing and indexing, `np.vstack()`, `np.hstack()`, `np.hsplit()`, `.view()`, `copy()`"
   ]
  },
  {
   "cell_type": "code",
   "execution_count": 20,
   "metadata": {},
   "outputs": [
    {
     "data": {
      "text/plain": [
       "array([[1, 1],\n",
       "       [2, 2],\n",
       "       [3, 3],\n",
       "       [4, 4]])"
      ]
     },
     "execution_count": 20,
     "metadata": {},
     "output_type": "execute_result"
    }
   ],
   "source": [
    "a1 = np.array([[1, 1],\n",
    "               [2, 2]])\n",
    "\n",
    "a2 = np.array([[3, 3],\n",
    "               [4, 4]])\n",
    "\n",
    "np.vstack((a1, a2))\n"
   ]
  },
  {
   "cell_type": "code",
   "execution_count": 21,
   "metadata": {},
   "outputs": [
    {
     "data": {
      "text/plain": [
       "array([[1, 1, 3, 3],\n",
       "       [2, 2, 4, 4]])"
      ]
     },
     "execution_count": 21,
     "metadata": {},
     "output_type": "execute_result"
    }
   ],
   "source": [
    "np.hstack((a1, a2))"
   ]
  },
  {
   "cell_type": "markdown",
   "metadata": {},
   "source": [
    "You can use the `view` method to create a new array object that looks at the same data as the original array (a shallow copy).\n",
    "\n",
    "Views are an important NumPy concept! NumPy functions, as well as operations like indexing and slicing, will return views whenever possible. This saves memory and is faster (no copy of the data has to be made). However it’s important to be aware of this - modifying data in a view also modifies the original array!"
   ]
  },
  {
   "cell_type": "code",
   "execution_count": 23,
   "metadata": {},
   "outputs": [],
   "source": [
    "a = np.array([[1, 2, 3, 4], [5, 6, 7, 8], [9, 10, 11, 12]])"
   ]
  },
  {
   "cell_type": "markdown",
   "metadata": {},
   "source": [
    "Now we create an array b1 by slicing a and modify the first element of b1. This will modify the corresponding element in a as well!"
   ]
  },
  {
   "cell_type": "code",
   "execution_count": 24,
   "metadata": {},
   "outputs": [
    {
     "name": "stdout",
     "output_type": "stream",
     "text": [
      "[1 2 3 4]\n",
      "[99  2  3  4]\n",
      "[[99  2  3  4]\n",
      " [ 5  6  7  8]\n",
      " [ 9 10 11 12]]\n"
     ]
    }
   ],
   "source": [
    "b1 = a[0, :]\n",
    "print(b1)\n",
    "b1[0] = 99\n",
    "print(b1)\n",
    "print(a)"
   ]
  },
  {
   "cell_type": "markdown",
   "metadata": {},
   "source": [
    "Using the `copy` method will make a complete copy of the array and its data (a deep copy).\n",
    "`b2 = a.copy()`"
   ]
  },
  {
   "cell_type": "markdown",
   "metadata": {},
   "source": [
    "##### Meshgrid generation  \n",
    "`numpy.meshgrid`\n",
    "\n",
    "This function supports both indexing conventions through the indexing keyword argument. Giving the string ‘ij’ returns a meshgrid with matrix indexing, while ‘xy’ returns a meshgrid with Cartesian indexing. In the 2-D case with inputs of length M and N, the outputs are of shape (N, M) for ‘xy’ indexing and (M, N) for ‘ij’ indexing. In the 3-D case with inputs of length M, N and P, outputs are of shape (N, M, P) for ‘xy’ indexing and (M, N, P) for ‘ij’ indexing. The difference is illustrated by the following code snippet:"
   ]
  },
  {
   "cell_type": "code",
   "execution_count": 27,
   "metadata": {},
   "outputs": [
    {
     "name": "stdout",
     "output_type": "stream",
     "text": [
      "[11 12 13 14 15 16 17 18 19 20]\n",
      "[ 0  2  3  4  5  6  7 12 13 14]\n",
      "[3 2 2 2 1 1 1 1 1 1]\n"
     ]
    }
   ],
   "source": [
    "# Unieque values\n",
    "a = np.array([11, 11, 12, 13, 14, 15, 16, 17, 12, 13, 11, 14, 18, 19, 20])\n",
    "unique_values = np.unique(a)\n",
    "print(unique_values)\n",
    "\n",
    "unique_values, indices_list = np.unique(a, return_index=True)\n",
    "print(indices_list)\n",
    "\n",
    "unique_values, occurrence_count = np.unique(a, return_counts=True)\n",
    "print(occurrence_count)"
   ]
  },
  {
   "cell_type": "code",
   "execution_count": 28,
   "metadata": {},
   "outputs": [
    {
     "name": "stdout",
     "output_type": "stream",
     "text": [
      "[[ 1  2  3  4]\n",
      " [ 5  6  7  8]\n",
      " [ 9 10 11 12]]\n"
     ]
    }
   ],
   "source": [
    "a_2d = np.array([[1, 2, 3, 4], [5, 6, 7, 8], [9, 10, 11, 12], [1, 2, 3, 4]])\n",
    "unique_rows = np.unique(a_2d, axis=0)\n",
    "print(unique_rows)"
   ]
  },
  {
   "cell_type": "code",
   "execution_count": 29,
   "metadata": {},
   "outputs": [
    {
     "name": "stdout",
     "output_type": "stream",
     "text": [
      "[[ 1  2  3  4]\n",
      " [ 5  6  7  8]\n",
      " [ 9 10 11 12]]\n",
      "[0 1 2]\n",
      "[2 1 1]\n"
     ]
    }
   ],
   "source": [
    "unique_rows, indices, occurrence_count = np.unique(\n",
    "     a_2d, axis=0, return_counts=True, return_index=True)\n",
    "print(unique_rows)\n",
    "print(indices)\n",
    "print(occurrence_count)"
   ]
  },
  {
   "cell_type": "code",
   "execution_count": null,
   "metadata": {},
   "outputs": [],
   "source": []
  },
  {
   "cell_type": "code",
   "execution_count": null,
   "metadata": {},
   "outputs": [],
   "source": []
  },
  {
   "cell_type": "code",
   "execution_count": null,
   "metadata": {},
   "outputs": [],
   "source": []
  },
  {
   "cell_type": "code",
   "execution_count": null,
   "metadata": {},
   "outputs": [],
   "source": []
  },
  {
   "cell_type": "code",
   "execution_count": null,
   "metadata": {},
   "outputs": [],
   "source": []
  },
  {
   "cell_type": "code",
   "execution_count": 30,
   "metadata": {},
   "outputs": [
    {
     "name": "stdout",
     "output_type": "stream",
     "text": [
      "[0.  0.5 1. ]\n",
      "[0. 1.]\n"
     ]
    }
   ],
   "source": [
    "nx, ny = (3, 2)\n",
    "x = np.linspace(0, 1, nx)\n",
    "y = np.linspace(0, 1, ny)\n",
    "print(x) \n",
    "print(y)"
   ]
  },
  {
   "cell_type": "code",
   "execution_count": 31,
   "metadata": {},
   "outputs": [
    {
     "name": "stdout",
     "output_type": "stream",
     "text": [
      "with ij indexing\n",
      "[[0.  0. ]\n",
      " [0.5 0.5]\n",
      " [1.  1. ]]\n",
      "[[0. 1.]\n",
      " [0. 1.]\n",
      " [0. 1.]]\n",
      "with xy indexing\n",
      "[[0.  0.5 1. ]\n",
      " [0.  0.5 1. ]]\n",
      "[[0. 0. 0.]\n",
      " [1. 1. 1.]]\n"
     ]
    }
   ],
   "source": [
    "xv, yv = np.meshgrid(x, y, indexing='ij')\n",
    "print(\"with ij indexing\")\n",
    "print(xv)\n",
    "print(yv)\n",
    "for i in range(nx):\n",
    "    for j in range(ny):\n",
    "        # treat xv[i,j], yv[i,j]\n",
    "        pass\n",
    "\n",
    "xv, yv = np.meshgrid(x, y, indexing='xy')\n",
    "print(\"with xy indexing\")\n",
    "print(xv)\n",
    "print(yv)\n",
    "for i in range(nx):\n",
    "    for j in range(ny):\n",
    "        # treat xv[j,i], yv[j,i]\n",
    "        pass "
   ]
  },
  {
   "cell_type": "code",
   "execution_count": 32,
   "metadata": {},
   "outputs": [
    {
     "data": {
      "image/png": "[encoded data removed]",
      "text/plain": [
       "<Figure size 640x480 with 1 Axes>"
      ]
     },
     "metadata": {},
     "output_type": "display_data"
    }
   ],
   "source": [
    "import matplotlib.pyplot as plt\n",
    "plt.plot(xv, yv, marker='o', color='k', linestyle='none')\n",
    "plt.show()"
   ]
  },
  {
   "cell_type": "markdown",
   "metadata": {},
   "source": [
    "You can create sparse output arrays to save memory and computation time."
   ]
  },
  {
   "cell_type": "code",
   "execution_count": 33,
   "metadata": {},
   "outputs": [
    {
     "name": "stdout",
     "output_type": "stream",
     "text": [
      "(101, 101) (101, 101) (101, 101)\n",
      "(1, 101) (101, 1) (101, 101)\n"
     ]
    },
    {
     "data": {
      "text/plain": [
       "True"
      ]
     },
     "execution_count": 33,
     "metadata": {},
     "output_type": "execute_result"
    }
   ],
   "source": [
    "x = np.linspace(-5, 5, 101)\n",
    "y = np.linspace(-5, 5, 101)\n",
    "# full coordinate arrays\n",
    "xx, yy = np.meshgrid(x, y)\n",
    "zz = np.sqrt(xx**2 + yy**2)\n",
    "print(xx.shape, yy.shape, zz.shape)\n",
    "# sparse coordinate arrays\n",
    "xs, ys = np.meshgrid(x, y, sparse=True)\n",
    "zs = np.sqrt(xs**2 + ys**2)\n",
    "print(xs.shape, ys.shape, zs.shape)\n",
    "np.array_equal(zz, zs)"
   ]
  },
  {
   "cell_type": "code",
   "execution_count": 34,
   "metadata": {},
   "outputs": [
    {
     "data": {
      "image/png": "[encoded data removed]",
      "text/plain": [
       "<Figure size 640x480 with 2 Axes>"
      ]
     },
     "metadata": {},
     "output_type": "display_data"
    }
   ],
   "source": [
    "h = plt.contourf(x, y, zs)\n",
    "plt.axis('scaled')\n",
    "plt.colorbar()\n",
    "plt.show()"
   ]
  },
  {
   "cell_type": "markdown",
   "metadata": {},
   "source": [
    "##### Constants"
   ]
  },
  {
   "cell_type": "markdown",
   "metadata": {},
   "source": [
    "NumPy includes several constants:\n",
    "- numpy.e (euler constant)\n",
    "- numpy.pi (pi)\n",
    "- numpy.inf (infinity)\n",
    "- numpy.nan (not a number)\n"
   ]
  },
  {
   "cell_type": "markdown",
   "metadata": {},
   "source": [
    "##### Basic Operations"
   ]
  },
  {
   "cell_type": "markdown",
   "metadata": {},
   "source": [
    "Arithmetic operators on arrays apply elementwise. A new array is created and filled with the result."
   ]
  },
  {
   "cell_type": "code",
   "execution_count": 18,
   "metadata": {},
   "outputs": [
    {
     "name": "stdout",
     "output_type": "stream",
     "text": [
      "b: [0 1 2 3]\n",
      "c = a - b: [20 29 38 47]\n",
      "b^2: [0 1 4 9]\n",
      "[ 9.12945251 -9.88031624  7.4511316  -2.62374854]\n",
      "[ True  True False False]\n"
     ]
    }
   ],
   "source": [
    "a = np.array([20, 30, 40, 50])\n",
    "b = np.arange(4)\n",
    "print(f\"b: {b}\")\n",
    "c = a - b\n",
    "print(f\"c = a - b: {c}\")\n",
    "print(f\"b^2: {b**2}\")\n",
    "print(10 * np.sin(a)) # multiply 10 to each element\n",
    "print(a < 35) # check if each element is less than 35"
   ]
  },
  {
   "cell_type": "markdown",
   "metadata": {},
   "source": [
    "Unlike in many matrix languages, the product operator `*` operates elementwise in NumPy arrays. The matrix product can be performed using the `@` operator (in python >=3.5) or the `dot` function or method:"
   ]
  },
  {
   "cell_type": "code",
   "execution_count": 19,
   "metadata": {},
   "outputs": [
    {
     "name": "stdout",
     "output_type": "stream",
     "text": [
      "[[2 0]\n",
      " [0 4]]\n",
      "[[5 4]\n",
      " [3 4]]\n",
      "[[5 4]\n",
      " [3 4]]\n"
     ]
    }
   ],
   "source": [
    "A = np.array([[1, 1],\n",
    "              [0, 1]])\n",
    "B = np.array([[2, 0],\n",
    "              [3, 4]])\n",
    "print(A * B)     # elementwise product\n",
    "print(A @ B)     # matrix product\n",
    "print(A.dot(B))  # another matrix product"
   ]
  },
  {
   "cell_type": "markdown",
   "metadata": {},
   "source": [
    "Some operations, such as `+=` and `*=`, act in place to modify an existing array rather than create a new one."
   ]
  },
  {
   "cell_type": "code",
   "execution_count": 22,
   "metadata": {},
   "outputs": [
    {
     "name": "stdout",
     "output_type": "stream",
     "text": [
      "[[3 3 3]\n",
      " [3 3 3]]\n",
      "[[3.51182162 3.9504637  3.14415961]\n",
      " [3.94864945 3.31183145 3.42332645]]\n"
     ]
    },
    {
     "ename": "UFuncTypeError",
     "evalue": "Cannot cast ufunc 'add' output from dtype('float64') to dtype('int64') with casting rule 'same_kind'",
     "output_type": "error",
     "traceback": [
      "\u001b[0;31m---------------------------------------------------------------------------\u001b[0m",
      "\u001b[0;31mUFuncTypeError\u001b[0m                            Traceback (most recent call last)",
      "Cell \u001b[0;32mIn[22], line 8\u001b[0m\n\u001b[1;32m      6\u001b[0m b \u001b[38;5;241m+\u001b[39m\u001b[38;5;241m=\u001b[39m a\n\u001b[1;32m      7\u001b[0m \u001b[38;5;28mprint\u001b[39m(b)\n\u001b[0;32m----> 8\u001b[0m a \u001b[38;5;241m+\u001b[39m\u001b[38;5;241m=\u001b[39m b  \u001b[38;5;66;03m# b is not automatically converted to integer type\u001b[39;00m\n",
      "\u001b[0;31mUFuncTypeError\u001b[0m: Cannot cast ufunc 'add' output from dtype('float64') to dtype('int64') with casting rule 'same_kind'"
     ]
    }
   ],
   "source": [
    "rg = np.random.default_rng(1)  # create instance of default random number generator\n",
    "a = np.ones((2, 3), dtype=int)\n",
    "b = rg.random((2, 3))\n",
    "a *= 3\n",
    "print(a)\n",
    "b += a\n",
    "print(b)\n",
    "a += b  # b is not automatically converted to integer type"
   ]
  },
  {
   "cell_type": "markdown",
   "metadata": {},
   "source": [
    "When operating with arrays of different types, the type of the resulting array corresponds to the more general or precise one (a behavior known as upcasting)."
   ]
  },
  {
   "cell_type": "code",
   "execution_count": 24,
   "metadata": {},
   "outputs": [
    {
     "name": "stdout",
     "output_type": "stream",
     "text": [
      "[1.         2.57079633 4.14159265]\n",
      "float64\n",
      "[ 0.54030231+0.84147098j -0.84147098+0.54030231j -0.54030231-0.84147098j]\n",
      "complex128\n"
     ]
    }
   ],
   "source": [
    "a = np.ones(3, dtype=np.int32)\n",
    "b = np.linspace(0, np.pi, 3)\n",
    "b.dtype.name\n",
    "c = a + b\n",
    "print(c)\n",
    "print(c.dtype.name)\n",
    "d = np.exp(c * 1j)\n",
    "print(d)\n",
    "print(d.dtype.name)"
   ]
  },
  {
   "cell_type": "markdown",
   "metadata": {},
   "source": [
    "### Aggregate functions"
   ]
  },
  {
   "cell_type": "markdown",
   "metadata": {},
   "source": [
    "Many unary operations, such as computing the sum of all the elements in the array, are implemented as methods of the ndarray class."
   ]
  },
  {
   "cell_type": "code",
   "execution_count": 25,
   "metadata": {},
   "outputs": [
    {
     "name": "stdout",
     "output_type": "stream",
     "text": [
      "[[0.82770259 0.40919914 0.54959369]\n",
      " [0.02755911 0.75351311 0.53814331]]\n",
      "3.1057109529998157\n",
      "0.027559113243068367\n",
      "0.8277025938204418\n"
     ]
    }
   ],
   "source": [
    "a = rg.random((2, 3))\n",
    "print(a)\n",
    "print(a.sum())\n",
    "print(a.min())\n",
    "print(a.max())"
   ]
  },
  {
   "cell_type": "markdown",
   "metadata": {},
   "source": [
    "By default, many unary operations(e.g. sum of all elements of an array) apply to the array as though it were a list of numbers, regardless of its shape. However, by specifying the axis parameter you can apply an operation along the specified axis of an array:"
   ]
  },
  {
   "cell_type": "code",
   "execution_count": 27,
   "metadata": {},
   "outputs": [
    {
     "name": "stdout",
     "output_type": "stream",
     "text": [
      "[[ 0  1  2  3]\n",
      " [ 4  5  6  7]\n",
      " [ 8  9 10 11]]\n",
      "[12 15 18 21]\n",
      "[0 4 8]\n",
      "[[ 0  1  3  6]\n",
      " [ 4  9 15 22]\n",
      " [ 8 17 27 38]]\n"
     ]
    }
   ],
   "source": [
    "b = np.arange(12).reshape(3, 4)\n",
    "print(b)\n",
    "print(b.sum(axis=0))           # sum of each column\n",
    "print(b.min(axis=1))           # min of each row\n",
    "print(b.cumsum(axis=1))        # cumulative sum along each row"
   ]
  },
  {
   "cell_type": "markdown",
   "metadata": {},
   "source": [
    "##### Universal functions"
   ]
  },
  {
   "cell_type": "markdown",
   "metadata": {},
   "source": [
    "NumPy provides familiar mathematical functions such as sin, cos, and exp. In NumPy, these are called “universal functions” (`ufunc`). Within NumPy, these functions operate elementwise on an array, producing an array as output."
   ]
  },
  {
   "cell_type": "code",
   "execution_count": 29,
   "metadata": {},
   "outputs": [
    {
     "name": "stdout",
     "output_type": "stream",
     "text": [
      "[0 1 2]\n",
      "[1.         2.71828183 7.3890561 ]\n",
      "[0.         1.         1.41421356]\n",
      "[ 2. -1.  4.]\n",
      "[1.         3.71828183 9.3890561 ]\n"
     ]
    }
   ],
   "source": [
    "B = np.arange(3)\n",
    "C = np.exp(B)\n",
    "D = np.sqrt(B)\n",
    "E = np.array([2., -1., 4.])\n",
    "F = np.add(B, C)\n",
    "print(B)\n",
    "print(C)\n",
    "print(D)\n",
    "print(E)\n",
    "print(F)"
   ]
  },
  {
   "cell_type": "markdown",
   "metadata": {},
   "source": [
    "Other functions:\n",
    "- numpy.all (Test whether all array elements along a given axis evaluate to True.)\n",
    "- numpy.any (Test whether any array element along a given axis evaluates to True.)\n",
    "- numpy.argmax (Return the indices of the maximum values along an axis.)\n",
    "- numpy.argmin (Return the indices of the minimum values along an axis.)\n",
    "- numpy.argsort (Returns the indices that would sort an array.)\n",
    "- numpy.isfinite (Test element-wise for finiteness (not infinity and not Not a Number).)\n",
    "- numpy.isinf (Test element-wise for positive or negative infinity.)\n",
    "- numpy.isnan (Test element-wise for NaN (Not a Number) and return result as a boolean array)"
   ]
  },
  {
   "cell_type": "code",
   "execution_count": 35,
   "metadata": {},
   "outputs": [
    {
     "name": "stdout",
     "output_type": "stream",
     "text": [
      "False\n",
      "[ True False]\n",
      "True\n",
      "True\n"
     ]
    }
   ],
   "source": [
    "print(np.all([[True,False],[True,True]]))\n",
    "print(np.all([[True,False],[True,True]], axis=0))\n",
    "print(np.all([-1, 4, 5]))\n",
    "print(np.all([1.0, np.nan]))"
   ]
  },
  {
   "cell_type": "code",
   "execution_count": 36,
   "metadata": {},
   "outputs": [
    {
     "name": "stdout",
     "output_type": "stream",
     "text": [
      "True\n",
      "[ True False  True]\n",
      "True\n"
     ]
    }
   ],
   "source": [
    "print(np.any([[True, False], [True, True]]))\n",
    "print(np.any([[True,  False, True ],\n",
    "        [False, False, False]], axis=0))\n",
    "print(np.any([-1, 0, 5]))"
   ]
  },
  {
   "cell_type": "code",
   "execution_count": 38,
   "metadata": {},
   "outputs": [
    {
     "name": "stdout",
     "output_type": "stream",
     "text": [
      "True True False False False [False  True False]\n"
     ]
    },
    {
     "name": "stderr",
     "output_type": "stream",
     "text": [
      "/tmp/ipykernel_28186/1417982119.py:7: RuntimeWarning: invalid value encountered in log\n",
      "  np.isfinite([np.log(-1.),1.,np.log(0)]))\n",
      "/tmp/ipykernel_28186/1417982119.py:7: RuntimeWarning: divide by zero encountered in log\n",
      "  np.isfinite([np.log(-1.),1.,np.log(0)]))\n"
     ]
    }
   ],
   "source": [
    "print(\n",
    "np.isfinite(1),\n",
    "np.isfinite(0),\n",
    "np.isfinite(np.nan),\n",
    "np.isfinite(np.inf),\n",
    "np.isfinite(-np.inf),\n",
    "np.isfinite([np.log(-1.),1.,np.log(0)]))"
   ]
  },
  {
   "cell_type": "code",
   "execution_count": 39,
   "metadata": {},
   "outputs": [
    {
     "name": "stdout",
     "output_type": "stream",
     "text": [
      "True False [ True False False]\n"
     ]
    },
    {
     "name": "stderr",
     "output_type": "stream",
     "text": [
      "/tmp/ipykernel_28186/803577518.py:4: RuntimeWarning: invalid value encountered in log\n",
      "  np.isnan([np.log(-1.),1.,np.log(0)]))\n",
      "/tmp/ipykernel_28186/803577518.py:4: RuntimeWarning: divide by zero encountered in log\n",
      "  np.isnan([np.log(-1.),1.,np.log(0)]))\n"
     ]
    }
   ],
   "source": [
    "print(\n",
    "np.isnan(np.nan),\n",
    "np.isnan(np.inf),\n",
    "np.isnan([np.log(-1.),1.,np.log(0)]))"
   ]
  },
  {
   "cell_type": "code",
   "execution_count": 4,
   "metadata": {},
   "outputs": [
    {
     "name": "stdout",
     "output_type": "stream",
     "text": [
      "(3,)\n",
      "[1 2 3 4 5 6]\n",
      "(6,)\n"
     ]
    }
   ],
   "source": [
    "# concatenation \n",
    "\n",
    "a = np.array([1, 2, 3])\n",
    "b = np.array([4, 5, 6])\n",
    "c = np.concatenate([a, b])\n",
    "print(a.shape)\n",
    "print(c)\n",
    "print(c.shape)"
   ]
  },
  {
   "cell_type": "code",
   "execution_count": 10,
   "metadata": {},
   "outputs": [
    {
     "name": "stdout",
     "output_type": "stream",
     "text": [
      "(4, 2)\n",
      "[[2 3]\n",
      " [1 5]\n",
      " [6 7]\n",
      " [9 8]]\n",
      "(2, 4)\n",
      "[[2 3 6 7]\n",
      " [1 5 9 8]]\n"
     ]
    }
   ],
   "source": [
    "a = np.array([[2,3],[1,5]])\n",
    "b = np.array([[6,7],[9,8]])\n",
    "c = np.concatenate([a,b], axis=0)\n",
    "d = np.concatenate([a,b], axis=1)\n",
    "print(c.shape)\n",
    "print(c)\n",
    "print(d.shape)\n",
    "print(d)\n"
   ]
  },
  {
   "cell_type": "markdown",
   "metadata": {},
   "source": [
    "### Sorting"
   ]
  },
  {
   "cell_type": "code",
   "execution_count": null,
   "metadata": {},
   "outputs": [
    {
     "name": "stdout",
     "output_type": "stream",
     "text": [
      "[[1 2 3]\n",
      " [1 2 7]\n",
      " [1 2 3]]\n",
      "\n",
      "[[1 2 1]\n",
      " [3 2 1]\n",
      " [7 2 3]]\n",
      "\n",
      "[[1 2 3]\n",
      " [1 2 7]\n",
      " [1 2 3]]\n"
     ]
    }
   ],
   "source": [
    "array = np.array([[3,2,1],[7,2,1],[1,2,3]])\n",
    "print(np.sort(array))\n",
    "print()\n",
    "print(np.sort(array, axis=0)) # sorts along the vertical axis (rows)\n",
    "print()\n",
    "print(np.sort(array, axis=1)) # sorts along the horizontal axis (columns)"
   ]
  },
  {
   "cell_type": "markdown",
   "metadata": {},
   "source": [
    "### Filtering arrays\n",
    "\n",
    "Two ways:\n",
    "- Masks and fancy indexing \n",
    "- `np.where()`"
   ]
  },
  {
   "cell_type": "markdown",
   "metadata": {},
   "source": [
    "##### Boolean masks"
   ]
  },
  {
   "cell_type": "code",
   "execution_count": null,
   "metadata": {},
   "outputs": [
    {
     "data": {
      "text/plain": [
       "array([1, 2, 3, 4, 5])"
      ]
     },
     "execution_count": 16,
     "metadata": {},
     "output_type": "execute_result"
    }
   ],
   "source": [
    "arr = np.arange(1,6)\n",
    "arr"
   ]
  },
  {
   "cell_type": "code",
   "execution_count": null,
   "metadata": {},
   "outputs": [
    {
     "name": "stdout",
     "output_type": "stream",
     "text": [
      "[False  True False  True False]\n",
      "[2 4]\n"
     ]
    }
   ],
   "source": [
    "mask = arr % 2 == 0\n",
    "print(mask)\n",
    "print(arr[mask]) # fancy indexing\n"
   ]
  },
  {
   "cell_type": "code",
   "execution_count": null,
   "metadata": {},
   "outputs": [
    {
     "name": "stdout",
     "output_type": "stream",
     "text": [
      "[2 4]\n"
     ]
    }
   ],
   "source": []
  },
  {
   "cell_type": "code",
   "execution_count": null,
   "metadata": {},
   "outputs": [],
   "source": []
  }
 ],
 "metadata": {
  "kernelspec": {
   "display_name": "self-py",
   "language": "python",
   "name": "python3"
  },
  "language_info": {
   "codemirror_mode": {
    "name": "ipython",
    "version": 3
   },
   "file_extension": ".py",
   "mimetype": "text/x-python",
   "name": "python",
   "nbconvert_exporter": "python",
   "pygments_lexer": "ipython3",
   "version": "3.10.12"
  }
 },
 "nbformat": 4,
 "nbformat_minor": 2
}
